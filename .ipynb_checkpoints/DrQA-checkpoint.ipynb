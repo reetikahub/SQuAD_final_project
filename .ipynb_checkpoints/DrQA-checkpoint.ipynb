{
 "cells": [
  {
   "cell_type": "code",
   "execution_count": 7,
   "metadata": {
    "collapsed": false
   },
   "outputs": [
    {
     "name": "stdout",
     "output_type": "stream",
     "text": [
      "Requirement already satisfied: tqdm in /Users/ragarwal/opt/anaconda3/envs/squad/lib/python3.6/site-packages (4.63.0)\n",
      "Requirement already satisfied: importlib-resources in /Users/ragarwal/opt/anaconda3/envs/squad/lib/python3.6/site-packages (from tqdm) (5.4.0)\n",
      "Requirement already satisfied: zipp>=3.1.0 in /Users/ragarwal/opt/anaconda3/envs/squad/lib/python3.6/site-packages (from importlib-resources->tqdm) (3.6.0)\n"
     ]
    }
   ],
   "source": [
    "!pip install tqdm"
   ]
  },
  {
   "cell_type": "code",
   "execution_count": 8,
   "metadata": {
    "collapsed": false
   },
   "outputs": [
    {
     "name": "stdout",
     "output_type": "stream",
     "text": [
      "Requirement already satisfied: spacy in /Users/ragarwal/opt/anaconda3/envs/squad/lib/python3.6/site-packages (3.2.3)\n",
      "Requirement already satisfied: spacy-loggers<2.0.0,>=1.0.0 in /Users/ragarwal/opt/anaconda3/envs/squad/lib/python3.6/site-packages (from spacy) (1.0.1)\n",
      "Requirement already satisfied: requests<3.0.0,>=2.13.0 in /Users/ragarwal/opt/anaconda3/envs/squad/lib/python3.6/site-packages (from spacy) (2.27.1)\n",
      "Requirement already satisfied: cymem<2.1.0,>=2.0.2 in /Users/ragarwal/opt/anaconda3/envs/squad/lib/python3.6/site-packages (from spacy) (2.0.5)\n",
      "Requirement already satisfied: jinja2 in /Users/ragarwal/opt/anaconda3/envs/squad/lib/python3.6/site-packages (from spacy) (3.0.3)\n",
      "Requirement already satisfied: numpy>=1.15.0 in /Users/ragarwal/opt/anaconda3/envs/squad/lib/python3.6/site-packages (from spacy) (1.19.5)\n",
      "Requirement already satisfied: thinc<8.1.0,>=8.0.12 in /Users/ragarwal/opt/anaconda3/envs/squad/lib/python3.6/site-packages (from spacy) (8.0.13)\n",
      "Requirement already satisfied: typing-extensions<4.0.0.0,>=3.7.4 in /Users/ragarwal/opt/anaconda3/envs/squad/lib/python3.6/site-packages (from spacy) (3.10.0.2)\n",
      "Requirement already satisfied: packaging>=20.0 in /Users/ragarwal/opt/anaconda3/envs/squad/lib/python3.6/site-packages (from spacy) (21.3)\n",
      "Requirement already satisfied: typer<0.5.0,>=0.3.0 in /Users/ragarwal/opt/anaconda3/envs/squad/lib/python3.6/site-packages (from spacy) (0.4.0)\n",
      "Requirement already satisfied: pathy>=0.3.5 in /Users/ragarwal/opt/anaconda3/envs/squad/lib/python3.6/site-packages (from spacy) (0.6.1)\n",
      "Requirement already satisfied: pydantic!=1.8,!=1.8.1,<1.9.0,>=1.7.4 in /Users/ragarwal/opt/anaconda3/envs/squad/lib/python3.6/site-packages (from spacy) (1.8.2)\n",
      "Requirement already satisfied: wasabi<1.1.0,>=0.8.1 in /Users/ragarwal/opt/anaconda3/envs/squad/lib/python3.6/site-packages (from spacy) (0.9.0)\n",
      "Requirement already satisfied: spacy-legacy<3.1.0,>=3.0.8 in /Users/ragarwal/opt/anaconda3/envs/squad/lib/python3.6/site-packages (from spacy) (3.0.9)\n",
      "Requirement already satisfied: srsly<3.0.0,>=2.4.1 in /Users/ragarwal/opt/anaconda3/envs/squad/lib/python3.6/site-packages (from spacy) (2.4.2)\n",
      "Requirement already satisfied: langcodes<4.0.0,>=3.2.0 in /Users/ragarwal/opt/anaconda3/envs/squad/lib/python3.6/site-packages (from spacy) (3.3.0)\n",
      "Requirement already satisfied: preshed<3.1.0,>=3.0.2 in /Users/ragarwal/opt/anaconda3/envs/squad/lib/python3.6/site-packages (from spacy) (3.0.6)\n",
      "Requirement already satisfied: catalogue<2.1.0,>=2.0.6 in /Users/ragarwal/opt/anaconda3/envs/squad/lib/python3.6/site-packages (from spacy) (2.0.6)\n",
      "Requirement already satisfied: tqdm<5.0.0,>=4.38.0 in /Users/ragarwal/opt/anaconda3/envs/squad/lib/python3.6/site-packages (from spacy) (4.63.0)\n",
      "Requirement already satisfied: setuptools in /Users/ragarwal/opt/anaconda3/envs/squad/lib/python3.6/site-packages (from spacy) (58.0.4)\n",
      "Requirement already satisfied: murmurhash<1.1.0,>=0.28.0 in /Users/ragarwal/opt/anaconda3/envs/squad/lib/python3.6/site-packages (from spacy) (1.0.5)\n",
      "Requirement already satisfied: blis<0.8.0,>=0.4.0 in /Users/ragarwal/opt/anaconda3/envs/squad/lib/python3.6/site-packages (from spacy) (0.7.6)\n",
      "Requirement already satisfied: zipp>=0.5 in /Users/ragarwal/opt/anaconda3/envs/squad/lib/python3.6/site-packages (from catalogue<2.1.0,>=2.0.6->spacy) (3.6.0)\n",
      "Requirement already satisfied: pyparsing!=3.0.5,>=2.0.2 in /Users/ragarwal/opt/anaconda3/envs/squad/lib/python3.6/site-packages (from packaging>=20.0->spacy) (3.0.7)\n",
      "Requirement already satisfied: dataclasses<1.0,>=0.6 in /Users/ragarwal/opt/anaconda3/envs/squad/lib/python3.6/site-packages (from pathy>=0.3.5->spacy) (0.8)\n",
      "Requirement already satisfied: smart-open<6.0.0,>=5.0.0 in /Users/ragarwal/opt/anaconda3/envs/squad/lib/python3.6/site-packages (from pathy>=0.3.5->spacy) (5.2.1)\n",
      "Requirement already satisfied: idna<4,>=2.5 in /Users/ragarwal/opt/anaconda3/envs/squad/lib/python3.6/site-packages (from requests<3.0.0,>=2.13.0->spacy) (3.3)\n",
      "Requirement already satisfied: urllib3<1.27,>=1.21.1 in /Users/ragarwal/opt/anaconda3/envs/squad/lib/python3.6/site-packages (from requests<3.0.0,>=2.13.0->spacy) (1.26.8)\n",
      "Requirement already satisfied: certifi>=2017.4.17 in /Users/ragarwal/opt/anaconda3/envs/squad/lib/python3.6/site-packages (from requests<3.0.0,>=2.13.0->spacy) (2020.6.20)\n",
      "Requirement already satisfied: charset-normalizer~=2.0.0 in /Users/ragarwal/opt/anaconda3/envs/squad/lib/python3.6/site-packages (from requests<3.0.0,>=2.13.0->spacy) (2.0.11)\n",
      "Requirement already satisfied: contextvars<3,>=2.4 in /Users/ragarwal/opt/anaconda3/envs/squad/lib/python3.6/site-packages (from thinc<8.1.0,>=8.0.12->spacy) (2.4)\n",
      "Requirement already satisfied: importlib-resources in /Users/ragarwal/opt/anaconda3/envs/squad/lib/python3.6/site-packages (from tqdm<5.0.0,>=4.38.0->spacy) (5.4.0)\n",
      "Requirement already satisfied: click<9.0.0,>=7.1.1 in /Users/ragarwal/opt/anaconda3/envs/squad/lib/python3.6/site-packages (from typer<0.5.0,>=0.3.0->spacy) (8.0.4)\n",
      "Requirement already satisfied: MarkupSafe>=2.0 in /Users/ragarwal/opt/anaconda3/envs/squad/lib/python3.6/site-packages (from jinja2->spacy) (2.0.1)\n",
      "Requirement already satisfied: importlib-metadata in /Users/ragarwal/opt/anaconda3/envs/squad/lib/python3.6/site-packages (from click<9.0.0,>=7.1.1->typer<0.5.0,>=0.3.0->spacy) (4.8.1)\n",
      "Requirement already satisfied: immutables>=0.9 in /Users/ragarwal/opt/anaconda3/envs/squad/lib/python3.6/site-packages (from contextvars<3,>=2.4->thinc<8.1.0,>=8.0.12->spacy) (0.16)\n"
     ]
    }
   ],
   "source": [
    "!pip install spacy"
   ]
  },
  {
   "cell_type": "code",
   "execution_count": 2,
   "metadata": {
    "collapsed": false
   },
   "outputs": [
    {
     "name": "stdout",
     "output_type": "stream",
     "text": [
      "/bin/sh: line 1: 14085 Illegal instruction: 4  python -m spacy download en >> /dev/null 2>&1\r\n"
     ]
    }
   ],
   "source": [
    "!python -m spacy"
   ]
  },
  {
   "cell_type": "code",
   "execution_count": 10,
   "metadata": {
    "collapsed": false
   },
   "outputs": [
    {
     "name": "stdout",
     "output_type": "stream",
     "text": [
      "Requirement already satisfied: tqdm in /Users/ragarwal/opt/anaconda3/envs/squad/lib/python3.6/site-packages (4.63.0)\r\n",
      "Requirement already satisfied: importlib-resources in /Users/ragarwal/opt/anaconda3/envs/squad/lib/python3.6/site-packages (from tqdm) (5.4.0)\r\n",
      "Requirement already satisfied: zipp>=3.1.0 in /Users/ragarwal/opt/anaconda3/envs/squad/lib/python3.6/site-packages (from importlib-resources->tqdm) (3.6.0)\r\n"
     ]
    }
   ],
   "source": [
    "!pip install tqdm"
   ]
  },
  {
   "cell_type": "code",
   "execution_count": 12,
   "metadata": {
    "collapsed": false
   },
   "outputs": [
    {
     "ename": "ImportError",
     "evalue": "No module named torch",
     "output_type": "error",
     "traceback": [
      "\u001b[0;31m---------------------------------------------------------------------------\u001b[0m",
      "\u001b[0;31mImportError\u001b[0m                               Traceback (most recent call last)",
      "\u001b[0;32m<ipython-input-12-49421493b567>\u001b[0m in \u001b[0;36m<module>\u001b[0;34m()\u001b[0m\n\u001b[1;32m     12\u001b[0m \u001b[0;32mfrom\u001b[0m \u001b[0mIPython\u001b[0m\u001b[0;34m.\u001b[0m\u001b[0mcore\u001b[0m\u001b[0;34m.\u001b[0m\u001b[0mdisplay\u001b[0m \u001b[0;32mimport\u001b[0m \u001b[0mdisplay\u001b[0m\u001b[0;34m,\u001b[0m \u001b[0mHTML\u001b[0m\u001b[0;34m\u001b[0m\u001b[0m\n\u001b[1;32m     13\u001b[0m \u001b[0;34m\u001b[0m\u001b[0m\n\u001b[0;32m---> 14\u001b[0;31m \u001b[0;32mimport\u001b[0m \u001b[0mtorch\u001b[0m\u001b[0;34m\u001b[0m\u001b[0m\n\u001b[0m\u001b[1;32m     15\u001b[0m \u001b[0;32mimport\u001b[0m \u001b[0mtorch\u001b[0m\u001b[0;34m.\u001b[0m\u001b[0mnn\u001b[0m \u001b[0;32mas\u001b[0m \u001b[0mnn\u001b[0m\u001b[0;34m\u001b[0m\u001b[0m\n\u001b[1;32m     16\u001b[0m \u001b[0;32mimport\u001b[0m \u001b[0mtorch\u001b[0m\u001b[0;34m.\u001b[0m\u001b[0mnn\u001b[0m\u001b[0;34m.\u001b[0m\u001b[0mfunctional\u001b[0m \u001b[0;32mas\u001b[0m \u001b[0mF\u001b[0m\u001b[0;34m\u001b[0m\u001b[0m\n",
      "\u001b[0;31mImportError\u001b[0m: No module named torch"
     ]
    }
   ],
   "source": [
    "import re\n",
    "import json\n",
    "import time\n",
    "#import tqdm\n",
    "#import spacy\n",
    "import string\n",
    "import collections\n",
    "import numpy as np\n",
    "import matplotlib.pyplot as plt\n",
    "%matplotlib inline\n",
    "\n",
    "from IPython.core.display import display, HTML\n",
    "\n",
    "import torch\n",
    "import torch.nn as nn\n",
    "import torch.nn.functional as F\n",
    "import torch.optim as optim\n",
    "from torch.nn.utils.rnn import pack_padded_sequence, pad_sequence, pad_packed_sequence\n",
    "from torch.utils.data import Dataset, DataLoader"
   ]
  },
  {
   "cell_type": "code",
   "execution_count": null,
   "metadata": {
    "collapsed": true
   },
   "outputs": [],
   "source": []
  }
 ],
 "metadata": {
  "kernelspec": {
   "display_name": "Python 2",
   "language": "python",
   "name": "python2"
  },
  "language_info": {
   "codemirror_mode": {
    "name": "ipython",
    "version": 2
   },
   "file_extension": ".py",
   "mimetype": "text/x-python",
   "name": "python",
   "nbconvert_exporter": "python",
   "pygments_lexer": "ipython2",
   "version": "2.7.13"
  }
 },
 "nbformat": 4,
 "nbformat_minor": 5
}
